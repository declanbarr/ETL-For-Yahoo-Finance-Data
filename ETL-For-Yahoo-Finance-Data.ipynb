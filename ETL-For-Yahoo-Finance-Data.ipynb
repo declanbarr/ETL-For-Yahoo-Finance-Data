{
 "cells": [
  {
   "cell_type": "markdown",
   "id": "b27366ae",
   "metadata": {},
   "source": [
    "# Extract-Transform-Load Yahoo Finance Data\n",
    "Project to collect data from Yahoo Finance using the yfinance API, transform the data and then load it into a storage folder in parquet format."
   ]
  },
  {
   "cell_type": "markdown",
   "id": "6ba4a607",
   "metadata": {},
   "source": [
    "## Import packages"
   ]
  },
  {
   "cell_type": "code",
   "execution_count": null,
   "id": "f71c7139",
   "metadata": {},
   "outputs": [],
   "source": [
    "import yfinance as yf\n",
    "import pandas as pd\n",
    "import pyarrow as pa\n",
    "import pyarrow.parquet as pq\n",
    "from datetime import datetime\n",
    "import os"
   ]
  },
  {
   "cell_type": "code",
   "execution_count": null,
   "id": "30fca30d",
   "metadata": {},
   "outputs": [],
   "source": [
    "startDate = \"2021-04-22\"\n",
    "endDate = \"2021-04-22\"\n",
    "ticker = \"SPY\""
   ]
  },
  {
   "cell_type": "code",
   "execution_count": null,
   "id": "94eb7e65",
   "metadata": {},
   "outputs": [],
   "source": [
    "startDateFormated = datetime.strptime(startDate, '%Y-%m-%d')\n",
    "endDateFormated = datetime.strptime(endDate, '%Y-%m-%d')\n",
    "\n",
    "startDateFormated = datetime.strftime(startDateFormated, '%Y%m%d')\n",
    "endDateFormated = datetime.strftime(endDateFormated, '%Y%m%d')"
   ]
  },
  {
   "cell_type": "code",
   "execution_count": null,
   "id": "ced407e6",
   "metadata": {},
   "outputs": [],
   "source": [
    "data = yf.download(ticker, startDate, endDate)"
   ]
  },
  {
   "cell_type": "code",
   "execution_count": null,
   "id": "5557b5e5",
   "metadata": {},
   "outputs": [],
   "source": [
    "# What day is it today in utc\n",
    "# For each Ticker check\n",
    "    # What days are missing\n",
    "# Get all missing data for each ticker\n",
    "# Transform data\n",
    "# Load data into folder for for each ticker saving the file as ticker_date\n",
    "\n",
    "# Create API that enables accessing of this data"
   ]
  },
  {
   "cell_type": "code",
   "execution_count": null,
   "id": "4565ac55",
   "metadata": {},
   "outputs": [],
   "source": [
    "pathForTicker = os.path.join('./dataStore/', ticker, '')\n",
    "if os.path.exists(pathForTicker) == False:\n",
    "    os.mkdir(pathForTicker)"
   ]
  },
  {
   "cell_type": "code",
   "execution_count": null,
   "id": "ac8fbadc",
   "metadata": {},
   "outputs": [],
   "source": [
    "fileName = startDateFormated+'_'+endDateFormated+'.parquet'"
   ]
  },
  {
   "cell_type": "code",
   "execution_count": null,
   "id": "e0f4f76d",
   "metadata": {},
   "outputs": [],
   "source": [
    "table = pa.Table.from_pandas(data)\n",
    "with pq.ParquetWriter(os.path.join(pathForTicker, fileName), table.schema) as writer:\n",
    "    writer.write_table(table)"
   ]
  },
  {
   "cell_type": "code",
   "execution_count": null,
   "id": "0dee3f9c",
   "metadata": {},
   "outputs": [],
   "source": [
    "parquet_file = pq.ParquetDataset(pathForTicker)"
   ]
  },
  {
   "cell_type": "code",
   "execution_count": null,
   "id": "2c9c9ede",
   "metadata": {},
   "outputs": [],
   "source": [
    "table = parquet_file.read()"
   ]
  }
 ],
 "metadata": {
  "kernelspec": {
   "display_name": "Python 3 (ipykernel)",
   "language": "python",
   "name": "python3"
  },
  "language_info": {
   "codemirror_mode": {
    "name": "ipython",
    "version": 3
   },
   "file_extension": ".py",
   "mimetype": "text/x-python",
   "name": "python",
   "nbconvert_exporter": "python",
   "pygments_lexer": "ipython3",
   "version": "3.9.7"
  }
 },
 "nbformat": 4,
 "nbformat_minor": 5
}
